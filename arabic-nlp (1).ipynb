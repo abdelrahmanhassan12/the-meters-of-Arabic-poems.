{
 "cells": [
  {
   "cell_type": "markdown",
   "metadata": {
    "execution": {
     "iopub.execute_input": "2021-05-30T18:49:23.408051Z",
     "iopub.status.busy": "2021-05-30T18:49:23.407709Z",
     "iopub.status.idle": "2021-05-30T18:49:29.304704Z",
     "shell.execute_reply": "2021-05-30T18:49:29.3037Z",
     "shell.execute_reply.started": "2021-05-30T18:49:23.408021Z"
    }
   },
   "source": [
    "## Machathon 2.0 Qualification Round\n",
    "### Arabic Poetry Meter"
   ]
  },
  {
   "cell_type": "code",
   "execution_count": 44,
   "metadata": {
    "execution": {
     "iopub.execute_input": "2021-05-30T20:12:31.471522Z",
     "iopub.status.busy": "2021-05-30T20:12:31.471049Z",
     "iopub.status.idle": "2021-05-30T20:12:37.480312Z",
     "shell.execute_reply": "2021-05-30T20:12:37.479347Z",
     "shell.execute_reply.started": "2021-05-30T20:12:31.471477Z"
    }
   },
   "outputs": [
    {
     "name": "stdout",
     "output_type": "stream",
     "text": [
      "Requirement already satisfied: pyarabic in /opt/conda/lib/python3.7/site-packages (0.6.10)\n"
     ]
    }
   ],
   "source": [
    "import os\n",
    "import io\n",
    "import glob\n",
    "import numpy as np\n",
    "import pandas as pd\n",
    "import tensorflow as tf\n",
    "from random import shuffle\n",
    "from pyarabic import araby\n",
    "from sklearn.utils import shuffle\n",
    "from tensorflow.keras.models import Sequential\n",
    "from sklearn.model_selection import train_test_split\n",
    "from keras.preprocessing.sequence import pad_sequences\n",
    "from tensorflow.keras.layers import GRU, Embedding, Dense, Input, Dropout, Bidirectional\n",
    "!pip install pyarabic"
   ]
  },
  {
   "cell_type": "markdown",
   "metadata": {},
   "source": [
    "### Reading Data"
   ]
  },
  {
   "cell_type": "code",
   "execution_count": 45,
   "metadata": {
    "execution": {
     "iopub.execute_input": "2021-05-30T20:12:37.482607Z",
     "iopub.status.busy": "2021-05-30T20:12:37.482251Z",
     "iopub.status.idle": "2021-05-30T20:12:37.711536Z",
     "shell.execute_reply": "2021-05-30T20:12:37.710683Z",
     "shell.execute_reply.started": "2021-05-30T20:12:37.482565Z"
    }
   },
   "outputs": [],
   "source": [
    "df=pd.read_csv('../input/poemdatasett/train.csv',header=0)\n",
    "df=pd.read_csv(io.StringIO(u\"\"+df.to_csv(header=None,index=False)), header=None)\n",
    "df.to_csv(\"trainFile.txt\", header=None, index=None, sep=' ', mode='w')"
   ]
  },
  {
   "cell_type": "code",
   "execution_count": 46,
   "metadata": {
    "execution": {
     "iopub.execute_input": "2021-05-30T20:12:37.713691Z",
     "iopub.status.busy": "2021-05-30T20:12:37.713338Z",
     "iopub.status.idle": "2021-05-30T20:12:37.722014Z",
     "shell.execute_reply": "2021-05-30T20:12:37.721231Z",
     "shell.execute_reply.started": "2021-05-30T20:12:37.713655Z"
    }
   },
   "outputs": [],
   "source": [
    "with open('../input/poemdatasett/labels.txt', 'r') as f:\n",
    "    data_labels = f.readlines()\n",
    "    data_labels = [name.replace('\\n', '') for name in data_labels]"
   ]
  },
  {
   "cell_type": "markdown",
   "metadata": {},
   "source": [
    "### Preprocessing Arabic Data"
   ]
  },
  {
   "cell_type": "code",
   "execution_count": 47,
   "metadata": {
    "execution": {
     "iopub.execute_input": "2021-05-30T20:12:37.724003Z",
     "iopub.status.busy": "2021-05-30T20:12:37.723725Z",
     "iopub.status.idle": "2021-05-30T20:12:37.732988Z",
     "shell.execute_reply": "2021-05-30T20:12:37.732050Z",
     "shell.execute_reply.started": "2021-05-30T20:12:37.723971Z"
    }
   },
   "outputs": [],
   "source": [
    "def splitting(path, thresh = 70, on_shatrs = False):\n",
    "    \n",
    "    global ALL_WORDS\n",
    "    words = \"\"\n",
    "    X = []\n",
    "    y = []\n",
    "    file = open(path, 'r').read()\n",
    "    file = araby.strip_tashkeel(file)\n",
    "    removed = '!()*-ـ.:=o[]«»;؛,،~?؟\\u200f\\ufeffـ'\n",
    "    after_R = \"\"\n",
    "    for char in file:\n",
    "        if char not in removed:\n",
    "            after_R += char\n",
    "    words += after_R\n",
    "    splitted = after_R.split('\\n')\n",
    "    for line in splitted:\n",
    "        if len(line) <= 1:\n",
    "            continue\n",
    "        data_label, splitted = line.split(' ', 1)\n",
    "        data_label = int(data_label)\n",
    "        splitted  = splitted.strip()\n",
    "        if on_shatrs:\n",
    "            shatrs = splitted.split('#')\n",
    "            for shatr in shatrs:\n",
    "                X.append(shatr.strip())\n",
    "                y.append(data_label)\n",
    "        else:\n",
    "            X.append(splitted.strip())\n",
    "            y.append(data_label)\n",
    "    ALL_WORDS = sorted(set(' '.join(X)))  \n",
    "    X, y = shuffle(X, y)\n",
    "        \n",
    "    return X, y"
   ]
  },
  {
   "cell_type": "code",
   "execution_count": 48,
   "metadata": {
    "execution": {
     "iopub.execute_input": "2021-05-30T20:12:37.734705Z",
     "iopub.status.busy": "2021-05-30T20:12:37.734377Z",
     "iopub.status.idle": "2021-05-30T20:12:38.571919Z",
     "shell.execute_reply": "2021-05-30T20:12:38.571066Z",
     "shell.execute_reply.started": "2021-05-30T20:12:37.734670Z"
    }
   },
   "outputs": [],
   "source": [
    "X, y = splitting(\"./trainFile.txt\", on_shatrs=False)"
   ]
  },
  {
   "cell_type": "markdown",
   "metadata": {},
   "source": [
    "### Showing First Five Abyat"
   ]
  },
  {
   "cell_type": "code",
   "execution_count": 49,
   "metadata": {
    "execution": {
     "iopub.execute_input": "2021-05-30T20:12:38.573721Z",
     "iopub.status.busy": "2021-05-30T20:12:38.573369Z",
     "iopub.status.idle": "2021-05-30T20:12:38.581277Z",
     "shell.execute_reply": "2021-05-30T20:12:38.580453Z",
     "shell.execute_reply.started": "2021-05-30T20:12:38.573685Z"
    }
   },
   "outputs": [
    {
     "name": "stdout",
     "output_type": "stream",
     "text": [
      "\"ولا تجملت بالأرياش مفتخرا # ولا افتتنت بحب الأهل والسكن\"   baseet\n",
      "\"لا تأمن الأغفار في النيق أن # تصبح موصولا بها الأحبل\"   saree\n",
      "\"ملك في حمى الشبيبة والم # لك له في دنياه زاد الغريب\"   khafeef\n",
      "\"وأوظفة أيد جدلها # كأوظفة الفالج المصعب\"   mutakareb\n",
      "\"يسرني ويسوء القوم أربعة # أهل وصحب وأعداء وحساد\"   baseet\n"
     ]
    }
   ],
   "source": [
    "for i in range(5):\n",
    "    print(X[i], ' ', data_labels[y[i]])"
   ]
  },
  {
   "cell_type": "markdown",
   "metadata": {},
   "source": [
    "### Splitting to train & validation data"
   ]
  },
  {
   "cell_type": "code",
   "execution_count": 50,
   "metadata": {
    "execution": {
     "iopub.execute_input": "2021-05-30T20:12:38.583176Z",
     "iopub.status.busy": "2021-05-30T20:12:38.582573Z",
     "iopub.status.idle": "2021-05-30T20:12:38.604869Z",
     "shell.execute_reply": "2021-05-30T20:12:38.604172Z",
     "shell.execute_reply.started": "2021-05-30T20:12:38.583121Z"
    }
   },
   "outputs": [],
   "source": [
    "X_train, X_validation , y_train, y_validation = train_test_split(X, y, test_size = 0.18, random_state = 30)"
   ]
  },
  {
   "cell_type": "markdown",
   "metadata": {},
   "source": [
    "### Converting Arabic Characters to Index"
   ]
  },
  {
   "cell_type": "code",
   "execution_count": 51,
   "metadata": {
    "execution": {
     "iopub.execute_input": "2021-05-30T20:12:38.611881Z",
     "iopub.status.busy": "2021-05-30T20:12:38.611457Z",
     "iopub.status.idle": "2021-05-30T20:12:38.622282Z",
     "shell.execute_reply": "2021-05-30T20:12:38.621402Z",
     "shell.execute_reply.started": "2021-05-30T20:12:38.611844Z"
    }
   },
   "outputs": [],
   "source": [
    "convert_char_idx = {u:i+1 for i, u in enumerate(ALL_WORDS)}"
   ]
  },
  {
   "cell_type": "markdown",
   "metadata": {},
   "source": [
    "### Making Sequences"
   ]
  },
  {
   "cell_type": "code",
   "execution_count": 52,
   "metadata": {
    "execution": {
     "iopub.execute_input": "2021-05-30T20:12:38.626558Z",
     "iopub.status.busy": "2021-05-30T20:12:38.625836Z",
     "iopub.status.idle": "2021-05-30T20:12:38.636297Z",
     "shell.execute_reply": "2021-05-30T20:12:38.635336Z",
     "shell.execute_reply.started": "2021-05-30T20:12:38.626522Z"
    }
   },
   "outputs": [],
   "source": [
    "def padding(X):\n",
    "    X = [[convert_char_idx[char] for char in line] for line in X]\n",
    "    X = pad_sequences(X, padding='post', value=0, maxlen = 100)\n",
    "    return X"
   ]
  },
  {
   "cell_type": "code",
   "execution_count": 53,
   "metadata": {
    "execution": {
     "iopub.execute_input": "2021-05-30T20:12:38.639070Z",
     "iopub.status.busy": "2021-05-30T20:12:38.637590Z",
     "iopub.status.idle": "2021-05-30T20:12:39.051121Z",
     "shell.execute_reply": "2021-05-30T20:12:39.050270Z",
     "shell.execute_reply.started": "2021-05-30T20:12:38.639036Z"
    }
   },
   "outputs": [],
   "source": [
    "X_train = padding(X_train)\n",
    "X_validation = padding(X_validation)\n",
    "y_train = np.array(y_train)\n",
    "y_validation = np.array(y_validation)"
   ]
  },
  {
   "cell_type": "markdown",
   "metadata": {},
   "source": [
    "### Building The Model"
   ]
  },
  {
   "cell_type": "code",
   "execution_count": 54,
   "metadata": {
    "execution": {
     "iopub.execute_input": "2021-05-30T20:12:39.053409Z",
     "iopub.status.busy": "2021-05-30T20:12:39.053037Z",
     "iopub.status.idle": "2021-05-30T20:12:40.819523Z",
     "shell.execute_reply": "2021-05-30T20:12:40.818638Z",
     "shell.execute_reply.started": "2021-05-30T20:12:39.053371Z"
    }
   },
   "outputs": [],
   "source": [
    "classifier = Sequential()\n",
    "classifier.add(Input((100,)))\n",
    "classifier.add(Embedding(len(convert_char_idx)+1, 256))\n",
    "classifier.add(Bidirectional(GRU(units = 512, return_sequences=True)))\n",
    "classifier.add(Bidirectional(GRU(units = 256, return_sequences=True)))\n",
    "classifier.add(Bidirectional(GRU(units = 256, return_sequences=True)))\n",
    "classifier.add(Bidirectional(GRU(units = 256)))\n",
    "classifier.add(Dense(64, activation = 'relu'))\n",
    "classifier.add(Dropout(0.3))\n",
    "classifier.add(Dense(len(data_labels), activation = 'softmax'))\n",
    "classifier.compile(optimizer = 'adam', loss = 'sparse_categorical_crossentropy', metrics = ['accuracy'])"
   ]
  },
  {
   "cell_type": "code",
   "execution_count": 55,
   "metadata": {
    "execution": {
     "iopub.execute_input": "2021-05-30T20:12:40.821079Z",
     "iopub.status.busy": "2021-05-30T20:12:40.820739Z",
     "iopub.status.idle": "2021-05-30T20:12:40.833733Z",
     "shell.execute_reply": "2021-05-30T20:12:40.832589Z",
     "shell.execute_reply.started": "2021-05-30T20:12:40.821045Z"
    }
   },
   "outputs": [
    {
     "name": "stdout",
     "output_type": "stream",
     "text": [
      "Model: \"sequential_2\"\n",
      "_________________________________________________________________\n",
      "Layer (type)                 Output Shape              Param #   \n",
      "=================================================================\n",
      "embedding_2 (Embedding)      (None, 100, 256)          10240     \n",
      "_________________________________________________________________\n",
      "bidirectional_9 (Bidirection (None, 100, 1024)         2365440   \n",
      "_________________________________________________________________\n",
      "bidirectional_10 (Bidirectio (None, 100, 512)          1969152   \n",
      "_________________________________________________________________\n",
      "bidirectional_11 (Bidirectio (None, 100, 512)          1182720   \n",
      "_________________________________________________________________\n",
      "bidirectional_12 (Bidirectio (None, 512)               1182720   \n",
      "_________________________________________________________________\n",
      "dense_4 (Dense)              (None, 64)                32832     \n",
      "_________________________________________________________________\n",
      "dropout_2 (Dropout)          (None, 64)                0         \n",
      "_________________________________________________________________\n",
      "dense_5 (Dense)              (None, 14)                910       \n",
      "=================================================================\n",
      "Total params: 6,744,014\n",
      "Trainable params: 6,744,014\n",
      "Non-trainable params: 0\n",
      "_________________________________________________________________\n"
     ]
    }
   ],
   "source": [
    "classifier.summary()"
   ]
  },
  {
   "cell_type": "code",
   "execution_count": 56,
   "metadata": {
    "execution": {
     "iopub.execute_input": "2021-05-30T20:12:40.835484Z",
     "iopub.status.busy": "2021-05-30T20:12:40.835126Z",
     "iopub.status.idle": "2021-05-30T20:12:40.874892Z",
     "shell.execute_reply": "2021-05-30T20:12:40.873991Z",
     "shell.execute_reply.started": "2021-05-30T20:12:40.835448Z"
    }
   },
   "outputs": [
    {
     "data": {
      "text/plain": [
       "TensorShape([10, 14])"
      ]
     },
     "execution_count": 56,
     "metadata": {},
     "output_type": "execute_result"
    }
   ],
   "source": [
    "classifier(tf.zeros((10, 100))).shape"
   ]
  },
  {
   "cell_type": "code",
   "execution_count": 57,
   "metadata": {
    "execution": {
     "iopub.execute_input": "2021-05-30T20:12:40.876534Z",
     "iopub.status.busy": "2021-05-30T20:12:40.876190Z",
     "iopub.status.idle": "2021-05-30T20:12:40.881932Z",
     "shell.execute_reply": "2021-05-30T20:12:40.880987Z",
     "shell.execute_reply.started": "2021-05-30T20:12:40.876489Z"
    }
   },
   "outputs": [],
   "source": [
    "CB = [tf.keras.callbacks.ReduceLROnPlateau(monitor='val_loss', factor=0.1, patience=2, min_delta=0.0001, min_lr=0.0001)]\n",
    "CB += [tf.keras.callbacks.ModelCheckpoint('MAAN_Model', monitor='val_accuracy', verbose=1, save_best_only=True, mode='max')]"
   ]
  },
  {
   "cell_type": "markdown",
   "metadata": {},
   "source": [
    "### Training The Model"
   ]
  },
  {
   "cell_type": "code",
   "execution_count": 58,
   "metadata": {
    "execution": {
     "iopub.execute_input": "2021-05-30T20:12:40.884172Z",
     "iopub.status.busy": "2021-05-30T20:12:40.883525Z",
     "iopub.status.idle": "2021-05-30T20:29:16.215699Z",
     "shell.execute_reply": "2021-05-30T20:29:16.214793Z",
     "shell.execute_reply.started": "2021-05-30T20:12:40.884121Z"
    }
   },
   "outputs": [
    {
     "name": "stdout",
     "output_type": "stream",
     "text": [
      "Epoch 1/17\n",
      "257/257 [==============================] - 43s 132ms/step - loss: 2.5002 - accuracy: 0.1068 - val_loss: 2.2889 - val_accuracy: 0.1772\n",
      "\n",
      "Epoch 00001: val_accuracy improved from -inf to 0.17722, saving model to MAAN_Model\n",
      "Epoch 2/17\n",
      "257/257 [==============================] - 32s 125ms/step - loss: 2.2338 - accuracy: 0.1996 - val_loss: 1.9032 - val_accuracy: 0.3681\n",
      "\n",
      "Epoch 00002: val_accuracy improved from 0.17722 to 0.36806, saving model to MAAN_Model\n",
      "Epoch 3/17\n",
      "257/257 [==============================] - 32s 126ms/step - loss: 1.8276 - accuracy: 0.3913 - val_loss: 1.2645 - val_accuracy: 0.5997\n",
      "\n",
      "Epoch 00003: val_accuracy improved from 0.36806 to 0.59972, saving model to MAAN_Model\n",
      "Epoch 4/17\n",
      "257/257 [==============================] - 32s 125ms/step - loss: 1.1430 - accuracy: 0.6449 - val_loss: 0.8848 - val_accuracy: 0.7211\n",
      "\n",
      "Epoch 00004: val_accuracy improved from 0.59972 to 0.72111, saving model to MAAN_Model\n",
      "Epoch 5/17\n",
      "257/257 [==============================] - 32s 126ms/step - loss: 0.7693 - accuracy: 0.7683 - val_loss: 0.5772 - val_accuracy: 0.8272\n",
      "\n",
      "Epoch 00005: val_accuracy improved from 0.72111 to 0.82722, saving model to MAAN_Model\n",
      "Epoch 6/17\n",
      "257/257 [==============================] - 32s 125ms/step - loss: 0.5286 - accuracy: 0.8416 - val_loss: 0.4660 - val_accuracy: 0.8639\n",
      "\n",
      "Epoch 00006: val_accuracy improved from 0.82722 to 0.86389, saving model to MAAN_Model\n",
      "Epoch 7/17\n",
      "257/257 [==============================] - 32s 125ms/step - loss: 0.3940 - accuracy: 0.8895 - val_loss: 0.4436 - val_accuracy: 0.8703\n",
      "\n",
      "Epoch 00007: val_accuracy improved from 0.86389 to 0.87028, saving model to MAAN_Model\n",
      "Epoch 8/17\n",
      "257/257 [==============================] - 32s 125ms/step - loss: 0.3306 - accuracy: 0.9024 - val_loss: 0.4102 - val_accuracy: 0.8836\n",
      "\n",
      "Epoch 00008: val_accuracy improved from 0.87028 to 0.88361, saving model to MAAN_Model\n",
      "Epoch 9/17\n",
      "257/257 [==============================] - 32s 125ms/step - loss: 0.2650 - accuracy: 0.9265 - val_loss: 0.4188 - val_accuracy: 0.8808\n",
      "\n",
      "Epoch 00009: val_accuracy did not improve from 0.88361\n",
      "Epoch 10/17\n",
      "257/257 [==============================] - 32s 125ms/step - loss: 0.2164 - accuracy: 0.9361 - val_loss: 0.4120 - val_accuracy: 0.8889\n",
      "\n",
      "Epoch 00010: val_accuracy improved from 0.88361 to 0.88889, saving model to MAAN_Model\n",
      "Epoch 11/17\n",
      "257/257 [==============================] - 32s 125ms/step - loss: 0.1415 - accuracy: 0.9620 - val_loss: 0.3504 - val_accuracy: 0.9117\n",
      "\n",
      "Epoch 00011: val_accuracy improved from 0.88889 to 0.91167, saving model to MAAN_Model\n",
      "Epoch 12/17\n",
      "257/257 [==============================] - 32s 125ms/step - loss: 0.0838 - accuracy: 0.9788 - val_loss: 0.3677 - val_accuracy: 0.9119\n",
      "\n",
      "Epoch 00012: val_accuracy improved from 0.91167 to 0.91194, saving model to MAAN_Model\n",
      "Epoch 13/17\n",
      "257/257 [==============================] - 32s 126ms/step - loss: 0.0673 - accuracy: 0.9845 - val_loss: 0.3700 - val_accuracy: 0.9167\n",
      "\n",
      "Epoch 00013: val_accuracy improved from 0.91194 to 0.91667, saving model to MAAN_Model\n",
      "Epoch 14/17\n",
      "257/257 [==============================] - 32s 125ms/step - loss: 0.0504 - accuracy: 0.9880 - val_loss: 0.3869 - val_accuracy: 0.9147\n",
      "\n",
      "Epoch 00014: val_accuracy did not improve from 0.91667\n",
      "Epoch 15/17\n",
      "257/257 [==============================] - 32s 125ms/step - loss: 0.0473 - accuracy: 0.9891 - val_loss: 0.4048 - val_accuracy: 0.9119\n",
      "\n",
      "Epoch 00015: val_accuracy did not improve from 0.91667\n",
      "Epoch 16/17\n",
      "257/257 [==============================] - 32s 125ms/step - loss: 0.0350 - accuracy: 0.9925 - val_loss: 0.4161 - val_accuracy: 0.9142\n",
      "\n",
      "Epoch 00016: val_accuracy did not improve from 0.91667\n",
      "Epoch 17/17\n",
      "257/257 [==============================] - 32s 126ms/step - loss: 0.0297 - accuracy: 0.9942 - val_loss: 0.4345 - val_accuracy: 0.9128\n",
      "\n",
      "Epoch 00017: val_accuracy did not improve from 0.91667\n"
     ]
    },
    {
     "data": {
      "text/plain": [
       "<tensorflow.python.keras.callbacks.History at 0x7f5f9df6e4d0>"
      ]
     },
     "execution_count": 58,
     "metadata": {},
     "output_type": "execute_result"
    }
   ],
   "source": [
    "classifier.fit(X_train, y_train, validation_data= (X_validation, y_validation), epochs = 17, batch_size= 64, shuffle = True, callbacks=CB)"
   ]
  },
  {
   "cell_type": "markdown",
   "metadata": {},
   "source": [
    "### Saving The Model"
   ]
  },
  {
   "cell_type": "code",
   "execution_count": 59,
   "metadata": {
    "execution": {
     "iopub.execute_input": "2021-05-30T20:29:16.217467Z",
     "iopub.status.busy": "2021-05-30T20:29:16.217095Z",
     "iopub.status.idle": "2021-05-30T20:29:16.387375Z",
     "shell.execute_reply": "2021-05-30T20:29:16.386488Z",
     "shell.execute_reply.started": "2021-05-30T20:29:16.217430Z"
    }
   },
   "outputs": [],
   "source": [
    "classifier.save('MAAN_Model_Final.h5')"
   ]
  },
  {
   "cell_type": "markdown",
   "metadata": {},
   "source": [
    "### Loading Model"
   ]
  },
  {
   "cell_type": "code",
   "execution_count": 60,
   "metadata": {
    "execution": {
     "iopub.execute_input": "2021-05-30T20:29:16.389137Z",
     "iopub.status.busy": "2021-05-30T20:29:16.388781Z",
     "iopub.status.idle": "2021-05-30T20:29:18.304511Z",
     "shell.execute_reply": "2021-05-30T20:29:18.303577Z",
     "shell.execute_reply.started": "2021-05-30T20:29:16.389097Z"
    }
   },
   "outputs": [],
   "source": [
    "classifier = tf.keras.models.load_model('MAAN_Model_Final.h5')"
   ]
  },
  {
   "cell_type": "markdown",
   "metadata": {},
   "source": [
    "### Classifier's Preprocessing Function"
   ]
  },
  {
   "cell_type": "code",
   "execution_count": 61,
   "metadata": {
    "execution": {
     "iopub.execute_input": "2021-05-30T20:29:18.306366Z",
     "iopub.status.busy": "2021-05-30T20:29:18.306022Z",
     "iopub.status.idle": "2021-05-30T20:29:18.313404Z",
     "shell.execute_reply": "2021-05-30T20:29:18.312483Z",
     "shell.execute_reply.started": "2021-05-30T20:29:18.306330Z"
    }
   },
   "outputs": [],
   "source": [
    "def classifier_preprocess_data(text, thresh = 70, on_shatrs = False):\n",
    "    \n",
    "    words = \"\"\n",
    "    X = []\n",
    "    text = araby.strip_tashkeel(text)\n",
    "    removed = 'ـ!()*-ـ.:=o[]«»;؛,،~?؟\\u200f\\ufeffـ'\n",
    "    after_R = \"\"\n",
    "    for char in text:\n",
    "        if char not in removed:\n",
    "            after_R += char\n",
    "    words += after_R\n",
    "    splitted = after_R\n",
    "    splitted  = splitted.strip()\n",
    "    if on_shatrs:\n",
    "        shatrs = splitted.split('#')\n",
    "        for shatr in shatrs:\n",
    "            X.append(shatr.strip())\n",
    "    else:\n",
    "        X.append(splitted.strip())\n",
    "    X = X[0]\n",
    "    return X "
   ]
  },
  {
   "cell_type": "code",
   "execution_count": 62,
   "metadata": {
    "execution": {
     "iopub.execute_input": "2021-05-30T20:29:18.315287Z",
     "iopub.status.busy": "2021-05-30T20:29:18.314754Z",
     "iopub.status.idle": "2021-05-30T20:29:18.326289Z",
     "shell.execute_reply": "2021-05-30T20:29:18.325462Z",
     "shell.execute_reply.started": "2021-05-30T20:29:18.315250Z"
    }
   },
   "outputs": [],
   "source": [
    "data_labels = {i:name for i, name in enumerate(data_labels)}"
   ]
  },
  {
   "cell_type": "markdown",
   "metadata": {},
   "source": [
    "### Prediction Function"
   ]
  },
  {
   "cell_type": "code",
   "execution_count": 63,
   "metadata": {
    "execution": {
     "iopub.execute_input": "2021-05-30T20:29:18.327905Z",
     "iopub.status.busy": "2021-05-30T20:29:18.327548Z",
     "iopub.status.idle": "2021-05-30T20:29:18.336338Z",
     "shell.execute_reply": "2021-05-30T20:29:18.335394Z",
     "shell.execute_reply.started": "2021-05-30T20:29:18.327869Z"
    }
   },
   "outputs": [],
   "source": [
    "def main_classify_func(sentence):\n",
    "    sentence = classifier_preprocess_data(sentence, on_shatrs=False)\n",
    "    sequence = [convert_char_idx[char] for char in sentence]\n",
    "    sequence = pad_sequences([sequence], maxlen = X_train.shape[1], padding='post', value=0)\n",
    "    pred = classifier.predict(sequence)[0]\n",
    "    print(data_labels[np.argmax(pred, 0).astype('int')], np.max(pred))\n",
    "    pred = np.argmax(pred, 0).astype('int')\n",
    "    return pred"
   ]
  },
  {
   "cell_type": "markdown",
   "metadata": {},
   "source": [
    "### Reading and Classifying Test Data"
   ]
  },
  {
   "cell_type": "code",
   "execution_count": 64,
   "metadata": {
    "execution": {
     "iopub.execute_input": "2021-05-30T20:29:18.338292Z",
     "iopub.status.busy": "2021-05-30T20:29:18.337838Z",
     "iopub.status.idle": "2021-05-30T20:29:20.160282Z",
     "shell.execute_reply": "2021-05-30T20:29:20.159485Z",
     "shell.execute_reply.started": "2021-05-30T20:29:18.338259Z"
    }
   },
   "outputs": [
    {
     "name": "stdout",
     "output_type": "stream",
     "text": [
      "baseet 0.9995615\n"
     ]
    },
    {
     "data": {
      "text/plain": [
       "8"
      ]
     },
     "execution_count": 64,
     "metadata": {},
     "output_type": "execute_result"
    }
   ],
   "source": [
    "test_data_df=pd.read_csv('../input/finaltestdata/test (2).csv')\n",
    "main_classify_func(test_data_df.data[0])"
   ]
  },
  {
   "cell_type": "code",
   "execution_count": 70,
   "metadata": {
    "execution": {
     "iopub.execute_input": "2021-05-30T20:53:29.065878Z",
     "iopub.status.busy": "2021-05-30T20:53:29.065555Z",
     "iopub.status.idle": "2021-05-30T20:53:29.073585Z",
     "shell.execute_reply": "2021-05-30T20:53:29.072565Z",
     "shell.execute_reply.started": "2021-05-30T20:53:29.065848Z"
    }
   },
   "outputs": [
    {
     "data": {
      "text/plain": [
       "0"
      ]
     },
     "execution_count": 70,
     "metadata": {},
     "output_type": "execute_result"
    }
   ],
   "source": [
    "test_data_dictionary = { i: main_classify_func(test_data_df.data[i]) for i in range(test_data_df.shape[0])}\n",
    "list(test_data_dictionary.keys())[0]"
   ]
  },
  {
   "cell_type": "code",
   "execution_count": 66,
   "metadata": {
    "execution": {
     "iopub.execute_input": "2021-05-30T20:31:01.203187Z",
     "iopub.status.busy": "2021-05-30T20:31:01.202827Z",
     "iopub.status.idle": "2021-05-30T20:31:01.217022Z",
     "shell.execute_reply": "2021-05-30T20:31:01.215681Z",
     "shell.execute_reply.started": "2021-05-30T20:31:01.203159Z"
    }
   },
   "outputs": [
    {
     "data": {
      "text/html": [
       "<div>\n",
       "<style scoped>\n",
       "    .dataframe tbody tr th:only-of-type {\n",
       "        vertical-align: middle;\n",
       "    }\n",
       "\n",
       "    .dataframe tbody tr th {\n",
       "        vertical-align: top;\n",
       "    }\n",
       "\n",
       "    .dataframe thead th {\n",
       "        text-align: right;\n",
       "    }\n",
       "</style>\n",
       "<table border=\"1\" class=\"dataframe\">\n",
       "  <thead>\n",
       "    <tr style=\"text-align: right;\">\n",
       "      <th></th>\n",
       "      <th>id</th>\n",
       "      <th>labels</th>\n",
       "    </tr>\n",
       "  </thead>\n",
       "  <tbody>\n",
       "    <tr>\n",
       "      <th>0</th>\n",
       "      <td>0</td>\n",
       "      <td>8</td>\n",
       "    </tr>\n",
       "    <tr>\n",
       "      <th>1</th>\n",
       "      <td>1</td>\n",
       "      <td>2</td>\n",
       "    </tr>\n",
       "    <tr>\n",
       "      <th>2</th>\n",
       "      <td>2</td>\n",
       "      <td>2</td>\n",
       "    </tr>\n",
       "    <tr>\n",
       "      <th>3</th>\n",
       "      <td>3</td>\n",
       "      <td>10</td>\n",
       "    </tr>\n",
       "    <tr>\n",
       "      <th>4</th>\n",
       "      <td>4</td>\n",
       "      <td>11</td>\n",
       "    </tr>\n",
       "  </tbody>\n",
       "</table>\n",
       "</div>"
      ],
      "text/plain": [
       "   id  labels\n",
       "0   0       8\n",
       "1   1       2\n",
       "2   2       2\n",
       "3   3      10\n",
       "4   4      11"
      ]
     },
     "execution_count": 66,
     "metadata": {},
     "output_type": "execute_result"
    }
   ],
   "source": [
    "test_data_df =  pd.DataFrame(test_data_dictionary.items(), columns=['id', 'labels'])\n",
    "test_data_df.head()"
   ]
  },
  {
   "cell_type": "markdown",
   "metadata": {},
   "source": [
    "### Saving Final Predictions to CSV File"
   ]
  },
  {
   "cell_type": "code",
   "execution_count": 67,
   "metadata": {
    "execution": {
     "iopub.execute_input": "2021-05-30T20:31:01.219090Z",
     "iopub.status.busy": "2021-05-30T20:31:01.218721Z",
     "iopub.status.idle": "2021-05-30T20:31:01.231497Z",
     "shell.execute_reply": "2021-05-30T20:31:01.230559Z",
     "shell.execute_reply.started": "2021-05-30T20:31:01.219056Z"
    }
   },
   "outputs": [],
   "source": [
    "test_data_df.to_csv('MAAN_Final.csv', header=True, index=False)"
   ]
  }
 ],
 "metadata": {
  "kernelspec": {
   "display_name": "Python 3",
   "language": "python",
   "name": "python3"
  },
  "language_info": {
   "codemirror_mode": {
    "name": "ipython",
    "version": 3
   },
   "file_extension": ".py",
   "mimetype": "text/x-python",
   "name": "python",
   "nbconvert_exporter": "python",
   "pygments_lexer": "ipython3",
   "version": "3.8.5"
  }
 },
 "nbformat": 4,
 "nbformat_minor": 4
}
